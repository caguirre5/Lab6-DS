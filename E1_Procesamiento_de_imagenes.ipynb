{
 "cells": [
  {
   "cell_type": "markdown",
   "metadata": {},
   "source": [
    "## Parte 1"
   ]
  },
  {
   "cell_type": "code",
   "execution_count": 25,
   "metadata": {},
   "outputs": [
    {
     "name": "stdout",
     "output_type": "stream",
     "text": [
      "Se han preprocesado y guardado 200000 imágenes en images.\n"
     ]
    }
   ],
   "source": [
    "import os\n",
    "import numpy as np\n",
    "from PIL import Image\n",
    "import torchvision\n",
    "import torchvision.transforms as transforms\n",
    "from torch.utils.data import DataLoader, Dataset\n",
    "import torch\n",
    "\n",
    "# Configuración de CUDA si está disponible\n",
    "device = torch.device(\"cuda\" if torch.cuda.is_available() else \"cpu\")\n",
    "\n",
    "# Ruta a la carpeta que contiene las imágenes originales\n",
    "data_folder = 'img_align_celeba/img_align_celeba'\n",
    "\n",
    "# Número de imágenes que deseas utilizar (por ejemplo, 10,000)\n",
    "num_images = 200000\n",
    "\n",
    "# Carpeta donde guardarás las imágenes preprocesadas\n",
    "output_folder = 'images'\n",
    "\n",
    "# Crear la carpeta de salida si no existe\n",
    "if not os.path.exists(output_folder):\n",
    "    os.makedirs(output_folder)\n",
    "\n",
    "# Transformaciones para el preprocesamiento de imágenes\n",
    "transform = transforms.Compose([\n",
    "    transforms.Resize((128, 128)),\n",
    "    transforms.ToTensor(),\n",
    "    transforms.Normalize((0.5, 0.5, 0.5), (0.5, 0.5, 0.5))  # Normalización\n",
    "])\n",
    "\n",
    "class CelebADataset(Dataset):\n",
    "    def __init__(self, root_dir, transform=None, num_images=None):\n",
    "        self.root_dir = root_dir\n",
    "        self.transform = transform\n",
    "        self.image_paths = os.listdir(root_dir)[:num_images]\n",
    "\n",
    "    def __len__(self):\n",
    "        return len(self.image_paths)\n",
    "\n",
    "    def __getitem__(self, idx):\n",
    "        img_name = os.path.join(self.root_dir, self.image_paths[idx])\n",
    "        image = Image.open(img_name)\n",
    "        if self.transform:\n",
    "            image = self.transform(image)\n",
    "        return image\n",
    "\n",
    "# Crear una instancia del conjunto de datos\n",
    "celeba_dataset = CelebADataset(data_folder, transform=transform, num_images=num_images)\n",
    "\n",
    "# Crear un DataLoader para cargar las imágenes en lotes\n",
    "batch_size = 64\n",
    "data_loader = DataLoader(celeba_dataset, batch_size=batch_size, shuffle=True, num_workers=0)\n",
    "\n",
    "# Preprocesar y guardar todas las imágenes en la carpeta de salida\n",
    "image_counter = 0  # Inicializar un contador para nombres únicos de imágenes\n",
    "for batch in data_loader:\n",
    "    for i in range(batch.size(0)):\n",
    "        image = batch[i]\n",
    "        save_path = os.path.join(output_folder, f'image_{image_counter}.jpg')\n",
    "        torchvision.utils.save_image(image, save_path)\n",
    "        image_counter += 1  # Incrementar el contador para el siguiente nombre de imagen\n",
    "\n",
    "print(f'Se han preprocesado y guardado {image_counter} imágenes en {output_folder}.')\n"
   ]
  }
 ],
 "metadata": {
  "kernelspec": {
   "display_name": "Python 3",
   "language": "python",
   "name": "python3"
  },
  "language_info": {
   "codemirror_mode": {
    "name": "ipython",
    "version": 3
   },
   "file_extension": ".py",
   "mimetype": "text/x-python",
   "name": "python",
   "nbconvert_exporter": "python",
   "pygments_lexer": "ipython3",
   "version": "3.10.9"
  },
  "orig_nbformat": 4
 },
 "nbformat": 4,
 "nbformat_minor": 2
}
