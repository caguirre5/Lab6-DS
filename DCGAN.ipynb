{
 "cells": [
  {
   "cell_type": "markdown",
   "metadata": {
    "id": "EG-ey6uYtb1B"
   },
   "source": [
    "# Redes Generativas Adversariales de Convolución Profunda (DCGANs - Deep Convolutional Generative Adversarial Networks)\n",
    "\n",
    "Básicamente son iguales a las GAN.  Sin embargo, se ha visto que para imágenes es mejor trabajar con Redes Convolucionales.  Por esto tiene sentido adaptar las unidades de las GAN (Generador y Discriminador) para que trabajen con Redes Convolucionales.\n",
    "\n",
    "OJO!!!  Aún con este ejercicio simple, puede que una PC ya no rinda bien por lo que sería mejor usar algo como Google Colab.  El código en este NB tiene habilitado el código para trabajar con Google Colab.  Se ha incluido, como comentarios, el código para trabajar con las PCs, si se quiere hacer así, se debe poner en comentarios las instrucciones específicas para Google Colab y quitar el \"hash tag\" de las instrucciones normales."
   ]
  },
  {
   "cell_type": "code",
   "execution_count": null,
   "metadata": {
    "id": "CfV2DXvitb1D"
   },
   "outputs": [],
   "source": [
    "import pandas as pd\n",
    "import numpy as np\n",
    "import matplotlib.pyplot as plt"
   ]
  },
  {
   "cell_type": "code",
   "execution_count": null,
   "metadata": {
    "id": "-LxFjfcmtb1D"
   },
   "outputs": [],
   "source": [
    "from tensorflow.keras.datasets import mnist"
   ]
  },
  {
   "cell_type": "code",
   "execution_count": null,
   "metadata": {
    "colab": {
     "base_uri": "https://localhost:8080/"
    },
    "id": "2TtWWYIbtb1E",
    "outputId": "17a73fb1-1288-4e0f-c96d-8ce9934a0c5b"
   },
   "outputs": [],
   "source": [
    "(X_entreno, y_entreno), (X_prueba, y_prueba) = mnist.load_data()"
   ]
  },
  {
   "cell_type": "code",
   "execution_count": null,
   "metadata": {
    "colab": {
     "base_uri": "https://localhost:8080/",
     "height": 282
    },
    "id": "CSmVrMpJtb1E",
    "outputId": "49a444ac-c08c-4110-de7e-8fa71f14563c"
   },
   "outputs": [],
   "source": [
    "plt.imshow(X_entreno[0])"
   ]
  },
  {
   "cell_type": "code",
   "execution_count": null,
   "metadata": {
    "colab": {
     "base_uri": "https://localhost:8080/"
    },
    "id": "pPOThyaFtb1F",
    "outputId": "2aa28885-47d1-4ced-db24-e9dda5183763"
   },
   "outputs": [],
   "source": [
    "y_entreno"
   ]
  },
  {
   "cell_type": "markdown",
   "metadata": {
    "id": "1W2q_lLAtb1G"
   },
   "source": [
    "## Cambiar la forma y la escala (normailizar) de las imágenes para DCGAN (Deep Convolutional GAN)\n",
    "\n",
    "El Generador utilizará la función de activación tanh() para la última capa.  Por este motivo debe cambiarse X_entreno para que los valores estén en el rango de -1 a 1."
   ]
  },
  {
   "cell_type": "code",
   "execution_count": null,
   "metadata": {
    "id": "iEtVmk2Atb1G"
   },
   "outputs": [],
   "source": [
    "X_entreno = X_entreno/255"
   ]
  },
  {
   "cell_type": "code",
   "execution_count": null,
   "metadata": {},
   "outputs": [],
   "source": [
    "X_entreno.shape"
   ]
  },
  {
   "cell_type": "code",
   "execution_count": null,
   "metadata": {
    "id": "Q2Sj4bt0tb1G"
   },
   "outputs": [],
   "source": [
    "X_entreno = X_entreno.reshape(-1, 28, 28, 1) * 2. - 1."
   ]
  },
  {
   "cell_type": "code",
   "execution_count": null,
   "metadata": {},
   "outputs": [],
   "source": [
    "X_entreno.shape"
   ]
  },
  {
   "cell_type": "code",
   "execution_count": null,
   "metadata": {
    "colab": {
     "base_uri": "https://localhost:8080/"
    },
    "id": "9vg6JBbHtb1H",
    "outputId": "1048e131-c17e-4d95-8f9b-6d5ddef71ba0"
   },
   "outputs": [],
   "source": [
    "X_entreno.min()"
   ]
  },
  {
   "cell_type": "code",
   "execution_count": null,
   "metadata": {
    "colab": {
     "base_uri": "https://localhost:8080/"
    },
    "id": "bHt9nTCftb1H",
    "outputId": "c447c450-f56b-49a4-92f7-ca5c09f053d8"
   },
   "outputs": [],
   "source": [
    "X_entreno.max()"
   ]
  },
  {
   "cell_type": "markdown",
   "metadata": {
    "id": "W2nmUSACtb1I"
   },
   "source": [
    "## Para que el tiempo de entrenamiento sea menor, vamos a filtrar los datos parar solo tener de un mismo dígito"
   ]
  },
  {
   "cell_type": "code",
   "execution_count": null,
   "metadata": {
    "id": "YQZyUxFGtb1I"
   },
   "outputs": [],
   "source": [
    "n = 0\n",
    "X_filtrado = X_entreno[y_entreno == n]"
   ]
  },
  {
   "cell_type": "code",
   "execution_count": null,
   "metadata": {
    "colab": {
     "base_uri": "https://localhost:8080/"
    },
    "id": "4Njho3zTtb1J",
    "outputId": "ad3addfb-0958-4880-9252-a3d1a40c495c"
   },
   "outputs": [],
   "source": [
    "X_filtrado.shape"
   ]
  },
  {
   "cell_type": "code",
   "execution_count": null,
   "metadata": {
    "colab": {
     "base_uri": "https://localhost:8080/",
     "height": 560
    },
    "id": "T4Gz7VkZtb1J",
    "outputId": "e5f50466-ba25-4b4c-9408-535b9e515702"
   },
   "outputs": [],
   "source": [
    "#En Jupyter NB funciona esto para ver una imagen\n",
    "n = 0\n",
    "plt.imshow(X_filtrado[n])"
   ]
  },
  {
   "cell_type": "code",
   "execution_count": null,
   "metadata": {
    "colab": {
     "base_uri": "https://localhost:8080/",
     "height": 282
    },
    "id": "xbqTMOaBuGk3",
    "outputId": "d50226b4-acb3-43e4-dab7-fdf9ac85445d"
   },
   "outputs": [],
   "source": [
    "# Para que funcione en Google Colab\n",
    "#n = 0\n",
    "#plt.imshow(X_filtrado.reshape(5923, 28, 28)[n])"
   ]
  },
  {
   "cell_type": "code",
   "execution_count": null,
   "metadata": {
    "id": "3nYf9dbEtb1K"
   },
   "outputs": [],
   "source": [
    "import tensorflow as tf\n",
    "from tensorflow.keras.layers import Dense, Reshape, Dropout, LeakyReLU, Flatten, BatchNormalization, Conv2D, Conv2DTranspose\n",
    "from tensorflow.keras.models import Sequential"
   ]
  },
  {
   "cell_type": "markdown",
   "metadata": {},
   "source": [
    "## Creación del GAN\n",
    "\n",
    "### Empezar con el generador\n",
    "\n",
    "El generador es una especie de \"decodificador\", haciendo referencia al AutoCodificador que ya vimos. Lo primero que hay que hacer es determinar un tamaño de codificación, o dimensión, que recibirá y que luego ampliará al tamaño de las imágenes en cuestión. Este número lo seleccionamos nosotros. Debe ser sustancialmente menor a las imágenes, pero no tan pequeño que se pueda perder alguna información importante.\n",
    "\n",
    "Nótese que una ventaja de usar Convolución es que permite aprovechar la naturaleza 2D de las imágenes."
   ]
  },
  {
   "cell_type": "code",
   "execution_count": null,
   "metadata": {
    "id": "wsYAgWIxtb1K"
   },
   "outputs": [],
   "source": [
    "np.random.seed(42)\n",
    "tf.random.set_seed(42)\n",
    "\n",
    "# Tamaño de la capa que va hacia el \n",
    "#    Generador\n",
    "tamanio_codificacion = 100"
   ]
  },
  {
   "cell_type": "code",
   "execution_count": null,
   "metadata": {
    "id": "Chu1GEdntb1K"
   },
   "outputs": [],
   "source": [
    "generador = Sequential()\n",
    "generador.add(Dense(7 * 7 * 128, \n",
    "                    input_shape = [tamanio_codificacion]))\n",
    "generador.add(Reshape([7, 7, 128]))\n",
    "generador.add(BatchNormalization())\n",
    "generador.add(Conv2DTranspose(64, \n",
    "                              kernel_size = 5, \n",
    "                              strides = 2, \n",
    "                              padding = \"same\",\n",
    "                              activation = \"relu\"))\n",
    "generador.add(BatchNormalization())\n",
    "generador.add(Conv2DTranspose(1, \n",
    "                              kernel_size = 5, \n",
    "                              strides = 2, \n",
    "                              padding = \"same\",\n",
    "                              activation = \"tanh\"))\n",
    "\n"
   ]
  },
  {
   "cell_type": "markdown",
   "metadata": {},
   "source": [
    "### Ahora a definir el discriminador"
   ]
  },
  {
   "cell_type": "code",
   "execution_count": null,
   "metadata": {
    "id": "NqJva6vbtb1L"
   },
   "outputs": [],
   "source": [
    "discriminador = Sequential()\n",
    "discriminador.add(Conv2D(64, \n",
    "                         kernel_size = 5, \n",
    "                         strides = 2, \n",
    "                         padding = \"same\",\n",
    "                         activation = LeakyReLU(0.3),\n",
    "                         input_shape = [28, 28, 1]))\n",
    "discriminador.add(Dropout(0.5))\n",
    "discriminador.add(Conv2D(128, \n",
    "                         kernel_size = 5, \n",
    "                         strides = 2, \n",
    "                         padding = \"same\",\n",
    "                         activation = LeakyReLU(0.3)))\n",
    "discriminador.add(Dropout(0.5))\n",
    "discriminador.add(Flatten())\n",
    "discriminador.add(Dense(1, \n",
    "                        activation = \"sigmoid\"))"
   ]
  },
  {
   "cell_type": "code",
   "execution_count": null,
   "metadata": {
    "id": "TudtO95ltb1L",
    "tags": []
   },
   "outputs": [],
   "source": [
    "GAN = Sequential([generador, discriminador])"
   ]
  },
  {
   "cell_type": "code",
   "execution_count": null,
   "metadata": {
    "id": "TNsH9voytb1M"
   },
   "outputs": [],
   "source": [
    "discriminador.compile(loss=\"binary_crossentropy\", optimizer=\"adam\")\n",
    "discriminador.trainable = False"
   ]
  },
  {
   "cell_type": "markdown",
   "metadata": {},
   "source": [
    "Nótese que el discriminador se compila, pero el generador no. En vez, se crea el GAN y se compila la red completa para que el generador se entrene únicamente a través del GAN completo.\n",
    "\n",
    "También, como se mencionó en la intuición, el discriminador no será entrenado durante la segunda fase\n",
    "\n",
    "Finalmente, la red GAN también tiene solo como salida un resultado binario\n",
    "\n",
    "Las siguientes líneas obedecen a estas observaciones"
   ]
  },
  {
   "cell_type": "code",
   "execution_count": null,
   "metadata": {
    "id": "SmxhzY3Ktb1M"
   },
   "outputs": [],
   "source": [
    "GAN.compile(loss = \"binary_crossentropy\", \n",
    "            optimizer = \"adam\")"
   ]
  },
  {
   "cell_type": "markdown",
   "metadata": {},
   "source": [
    "Ver un resúmen de lo hecho"
   ]
  },
  {
   "cell_type": "code",
   "execution_count": null,
   "metadata": {
    "colab": {
     "base_uri": "https://localhost:8080/"
    },
    "id": "B4Pw1Z3ptb1N",
    "outputId": "54b387c6-d69c-4238-f78d-cebc755120db"
   },
   "outputs": [],
   "source": [
    "GAN.layers"
   ]
  },
  {
   "cell_type": "code",
   "execution_count": null,
   "metadata": {
    "colab": {
     "base_uri": "https://localhost:8080/"
    },
    "id": "FzrvqjfZtb1N",
    "outputId": "2b2ef773-9c31-4abb-c920-9aa650ef9e56"
   },
   "outputs": [],
   "source": [
    "GAN.summary()"
   ]
  },
  {
   "cell_type": "code",
   "execution_count": null,
   "metadata": {
    "colab": {
     "base_uri": "https://localhost:8080/"
    },
    "id": "aqqb1uaStb1N",
    "outputId": "bdbf979c-3757-463f-8b6f-b2668b8773b8"
   },
   "outputs": [],
   "source": [
    "GAN.layers[0].summary()"
   ]
  },
  {
   "cell_type": "code",
   "execution_count": null,
   "metadata": {
    "colab": {
     "base_uri": "https://localhost:8080/"
    },
    "id": "zKwtPB2ktb1O",
    "outputId": "7a768078-b67c-453f-ac0f-2de76cb0b6cc"
   },
   "outputs": [],
   "source": [
    "GAN.layers[1].summary()"
   ]
  },
  {
   "cell_type": "markdown",
   "metadata": {
    "id": "awxNCnZztb1O",
    "tags": []
   },
   "source": [
    "### Configurar las tandas para entrenamiento"
   ]
  },
  {
   "cell_type": "code",
   "execution_count": null,
   "metadata": {
    "id": "IAV9mWXjtb1O"
   },
   "outputs": [],
   "source": [
    "import tensorflow as tf"
   ]
  },
  {
   "cell_type": "code",
   "execution_count": null,
   "metadata": {
    "id": "vr6zGKvmtb1O"
   },
   "outputs": [],
   "source": [
    "# Si se desea que el entrenamiento sea más\n",
    "#   rápido, se puede tomar un valor mayor\n",
    "tamanio_tanda = 32"
   ]
  },
  {
   "cell_type": "markdown",
   "metadata": {
    "id": "eWK_6wpltb1P"
   },
   "source": [
    "https://stackoverflow.com/questions/46444018/meaning-of-buffer-size-in-dataset-map-dataset-prefetch-and-dataset-shuffle\n",
    "\n",
    "El tamaño del \"buffer\" en el Conjunto_Datos.shuffle() puede afectar la aleatoridad de conjunto de datos, y por lo tanto el orden en los cuales aparecen los elementos. "
   ]
  },
  {
   "cell_type": "code",
   "execution_count": null,
   "metadata": {
    "id": "KfEwYU1btb1P"
   },
   "outputs": [],
   "source": [
    "# mis_datos = X_entreno\n",
    "mis_datos = X_filtrado"
   ]
  },
  {
   "cell_type": "code",
   "execution_count": null,
   "metadata": {
    "id": "fjY8_-yAtb1P"
   },
   "outputs": [],
   "source": [
    "datos = tf.data.Dataset.from_tensor_slices(mis_datos).shuffle(buffer_size = 1000)"
   ]
  },
  {
   "cell_type": "code",
   "execution_count": null,
   "metadata": {
    "colab": {
     "base_uri": "https://localhost:8080/"
    },
    "id": "48IpG1mYtb1Q",
    "outputId": "7db24fa6-bf3e-4f14-c7e2-9389ab8c022a"
   },
   "outputs": [],
   "source": [
    "type(datos)"
   ]
  },
  {
   "cell_type": "code",
   "execution_count": null,
   "metadata": {
    "id": "SqOVG8Botb1R"
   },
   "outputs": [],
   "source": [
    "datos = datos.batch(tamanio_tanda, \n",
    "                    drop_remainder = True).prefetch(1)"
   ]
  },
  {
   "cell_type": "code",
   "execution_count": null,
   "metadata": {
    "id": "jMEVgX_Ytb1S"
   },
   "outputs": [],
   "source": [
    "# Hay muchas mas capas y es mejor dar más \n",
    "#   tiempo para entrenar...por eso puede \n",
    "#   ser necesario trabajar con GPUs\n",
    "epocas = 20"
   ]
  },
  {
   "cell_type": "markdown",
   "metadata": {
    "id": "WW0QDIixtb1S"
   },
   "source": [
    "**NOTA: el generador nunca vé imágenes verdaderas.  Aprende viendo las gradientes que fluyen hacia atrás en el discriminador.  Entre mejor se va poniendo el discriminador a través del entrenamiento, más información está contenida en sus gradientes. Esto hace que el generador vaya progresando en su aprendizaje sobre cómo generar imágenes falsas, en este caso, ceros falsificados.** \n",
    "\n",
    "\n",
    "## Iteración de Entrenamiento\n",
    "\n",
    "Normalmente se usa el .fit() para entrenar.  Sin embargo como acá se tienen dos redes en competencia (adversariales), se creará una iteración de entrenamiento"
   ]
  },
  {
   "cell_type": "code",
   "execution_count": null,
   "metadata": {
    "id": "lOJxb4Tgtb1T"
   },
   "outputs": [],
   "source": [
    "# Tomar los componentes por separado\n",
    "generador, discriminador = GAN.layers"
   ]
  },
  {
   "cell_type": "code",
   "execution_count": null,
   "metadata": {
    "colab": {
     "base_uri": "https://localhost:8080/"
    },
    "id": "z95xGRvqtb1T",
    "outputId": "9eebd67b-16fa-45b2-ef6e-23ac8d377975"
   },
   "outputs": [],
   "source": [
    "for epoca in range(epocas):\n",
    "    print(f\"Voy por la época {epoca + 1}\")\n",
    "    i = 0\n",
    "    # Para cada tanda en el conjunto de datos\n",
    "    for X_tanda in datos:\n",
    "        i = i + 1\n",
    "        if i % 25 == 0:\n",
    "            print(f\"\\tVoy por la tanda número {i} de {len(mis_datos) // tamanio_tanda}\")\n",
    "            \n",
    "        ##############################################\n",
    "        ## Fase 1 - Entrenamiento del DISCRIMINADOR ##\n",
    "        ##############################################\n",
    "        \n",
    "        # Crear Ruido\n",
    "        ruido = tf.random.normal(shape = [tamanio_tanda, \n",
    "                                          tamanio_codificacion])\n",
    "        \n",
    "        # Generar imágenes falsas (números) basadas sólo en una entrada de ruido\n",
    "        # Notar que el Generador nunca vé imágenes reales (solo ruido)\n",
    "        imagenes_gen = generador(ruido)\n",
    "        \n",
    "        # Concatenar las Imágenes Generadas con las Verdaderas\n",
    "        # Para poder utilizar tf.concat, los tipos de los datos deben\n",
    "        #    coincidir!\n",
    "        X_falso_vs_real = tf.concat([imagenes_gen, \n",
    "                                     tf.dtypes.cast(X_tanda,\n",
    "                                                    tf.float32)], \n",
    "                                    axis = 0)\n",
    "        \n",
    "        # Las metas se fijan en cero (0) para imágenes falsas \n",
    "        #     y uno (1) para imágenes reales\n",
    "        y1 = tf.constant([[0.]] * tamanio_tanda + [[1.]] * tamanio_tanda)\n",
    "        \n",
    "        # La siguiente instrucción obvia una advertencia de Keras\n",
    "        discriminador.trainable = True\n",
    "        \n",
    "        # Entrenar al discriminador con esta tanda\n",
    "        discriminador.train_on_batch(X_falso_vs_real, y1)\n",
    "        \n",
    "        \n",
    "        ##########################################\n",
    "        ## Fase 2 - Entrenamiento del GENERADOR ##\n",
    "        ##########################################\n",
    "        \n",
    "        # Crear algo de ruido\n",
    "        ruido = tf.random.normal(shape=[tamanio_tanda, \n",
    "                                        tamanio_codificacion])\n",
    "        \n",
    "        # Se quiere que el discriminador crea \n",
    "        #   que las imágenes falas son reales\n",
    "        y2 = tf.constant([[1.]] * tamanio_tanda)\n",
    "        \n",
    "        # Evitar una advertencia\n",
    "        discriminador.trainable = False\n",
    "        \n",
    "        GAN.train_on_batch(ruido, y2)\n",
    "        \n",
    "print(\"Entrenamiento Completado\")            "
   ]
  },
  {
   "cell_type": "markdown",
   "metadata": {},
   "source": [
    "**Ahora que está todo entrenado, se puede probar solo el generador para producir imágenes**"
   ]
  },
  {
   "cell_type": "code",
   "execution_count": null,
   "metadata": {
    "id": "stgfy5mitb1U",
    "tags": []
   },
   "outputs": [],
   "source": [
    "ruido = tf.random.normal(shape = [10, tamanio_codificacion])"
   ]
  },
  {
   "cell_type": "code",
   "execution_count": null,
   "metadata": {
    "colab": {
     "base_uri": "https://localhost:8080/"
    },
    "id": "GqoGCdk7tb1U",
    "outputId": "72b1fdb0-2843-49c6-b471-d34f60f4c694"
   },
   "outputs": [],
   "source": [
    "ruido.shape"
   ]
  },
  {
   "cell_type": "code",
   "execution_count": null,
   "metadata": {
    "colab": {
     "base_uri": "https://localhost:8080/",
     "height": 101
    },
    "id": "TpLla-pZtb1V",
    "outputId": "4ad655b0-2195-414f-b99b-356212a36dd7"
   },
   "outputs": [],
   "source": [
    "plt.imshow(ruido)"
   ]
  },
  {
   "cell_type": "code",
   "execution_count": null,
   "metadata": {
    "id": "E3WIq9Obtb1W",
    "tags": []
   },
   "outputs": [],
   "source": [
    "imagenes = generador(ruido)"
   ]
  },
  {
   "cell_type": "markdown",
   "metadata": {},
   "source": [
    "**Utilice esta sección para trabajar con Jupyter NB**"
   ]
  },
  {
   "cell_type": "code",
   "execution_count": null,
   "metadata": {},
   "outputs": [],
   "source": [
    "plt.imshow(imagenes[0])"
   ]
  },
  {
   "cell_type": "code",
   "execution_count": null,
   "metadata": {
    "tags": []
   },
   "outputs": [],
   "source": [
    "plt.imshow(imagenes[3])"
   ]
  },
  {
   "cell_type": "code",
   "execution_count": null,
   "metadata": {
    "tags": []
   },
   "outputs": [],
   "source": [
    "plt.imshow(imagenes[6])"
   ]
  },
  {
   "cell_type": "code",
   "execution_count": null,
   "metadata": {
    "tags": []
   },
   "outputs": [],
   "source": [
    "plt.imshow(imagenes[9])"
   ]
  },
  {
   "cell_type": "markdown",
   "metadata": {},
   "source": [
    "**Utilice esta sección para trabajar con Google Colab**"
   ]
  },
  {
   "cell_type": "code",
   "execution_count": null,
   "metadata": {
    "colab": {
     "base_uri": "https://localhost:8080/",
     "height": 282
    },
    "id": "qGJ7EoLbtb1W",
    "outputId": "cc8c3a94-89fa-43e9-b134-ee29f82fa646"
   },
   "outputs": [],
   "source": [
    "#from tensorflow.python.ops.numpy_ops import np_config\n",
    "#np_config.enable_numpy_behavior()"
   ]
  },
  {
   "cell_type": "code",
   "execution_count": null,
   "metadata": {
    "tags": []
   },
   "outputs": [],
   "source": [
    "#n = 0\n",
    "#plt.imshow(imagenes[n].reshape(28, 28))"
   ]
  },
  {
   "cell_type": "code",
   "execution_count": null,
   "metadata": {},
   "outputs": [],
   "source": [
    "#n = 3\n",
    "#plt.imshow(imagenes[n].reshape(28, 28))"
   ]
  },
  {
   "cell_type": "code",
   "execution_count": null,
   "metadata": {},
   "outputs": [],
   "source": [
    "#n = 6\n",
    "#plt.imshow(imagenes[n].reshape(28, 28))"
   ]
  },
  {
   "cell_type": "code",
   "execution_count": null,
   "metadata": {},
   "outputs": [],
   "source": [
    "#n = 9\n",
    "#plt.imshow(imagenes[n].reshape(28, 28))"
   ]
  },
  {
   "cell_type": "markdown",
   "metadata": {
    "id": "GXu2ac-X4muQ"
   },
   "source": [
    "**Ahora las 10 imágenes tienen mejor apariencia y todas son diferentes.**\n",
    "\n",
    "**En este campo, este es el  estado-del-arte!  Para obtener resultados más realistas, se requieren GPUs de mucha potencia y \"jugar\" bastante con los hiper-parámetros!**"
   ]
  }
 ],
 "metadata": {
  "colab": {
   "name": "DCGAN.ipynb",
   "provenance": []
  },
  "kernelspec": {
   "display_name": "Python 3 (ipykernel)",
   "language": "python",
   "name": "python3"
  },
  "language_info": {
   "codemirror_mode": {
    "name": "ipython",
    "version": 3
   },
   "file_extension": ".py",
   "mimetype": "text/x-python",
   "name": "python",
   "nbconvert_exporter": "python",
   "pygments_lexer": "ipython3",
   "version": "3.11.4"
  }
 },
 "nbformat": 4,
 "nbformat_minor": 4
}
